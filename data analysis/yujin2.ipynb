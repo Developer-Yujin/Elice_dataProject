{
  "nbformat": 4,
  "nbformat_minor": 0,
  "metadata": {
    "colab": {
      "name": "google0423.ipynb",
      "provenance": [],
      "collapsed_sections": []
    },
    "kernelspec": {
      "name": "python3",
      "display_name": "Python 3"
    },
    "language_info": {
      "name": "python"
    }
  },
  "cells": [
    {
      "cell_type": "markdown",
      "source": [
        "# <정리>\n",
        "\n",
        "##1. cate_market1: 카테고리별 앱의 다운로드 수 / 카테고리별 앱 개수\n",
        "##2. cate_market2: 카테고리별 앱의 광고 수/ 카테고리별 앱 개수\n",
        "##3. cate_market3: 카테고리별 앱의 에디터 추천 수/카테고리별 앱 개수\n",
        "\n",
        "# <결과>\n",
        "\n",
        "### 1,2,3을 통합한 결과: Game, Comics, Video Players & Editors, Weather가 블루오션+수익성이 있을 가능성이 있는 앱들로 보임 --> Editor's Picks에 넣기\n",
        "\n",
        "### Appbti test에서는 cate_market1의 순위를 활용해서 개발자가 선호하는 카테고리 시장을 파악해서 알려주면 될 것 같음( 얼마만큼 블루오션입니다 or 얼마만큼 레드오션입니다.)\n"
      ],
      "metadata": {
        "id": "v30ZV9eHbhx4"
      }
    },
    {
      "cell_type": "code",
      "execution_count": 1,
      "metadata": {
        "id": "AquSgbDceNMZ"
      },
      "outputs": [],
      "source": [
        "import numpy as np\n",
        "import pandas as pd\n",
        "import seaborn as sns\n",
        "import matplotlib.pyplot as plt\n",
        "%matplotlib inline\n",
        "\n",
        "data = pd.read_csv('/content/google-app-pre.csv')"
      ]
    },
    {
      "cell_type": "code",
      "source": [
        "cate_down = data.groupby(['Category'])['Maximum Installs'].sum().sort_values(ascending=False)\n",
        "print(cate_down)\n",
        "cate_rate = data.groupby(['Category'])['Rating'].mean().sort_values(ascending=False)\n",
        "print(cate_rate)\n",
        "cate_counts = data['Category'].value_counts()\n",
        "print(cate_counts)\n"
      ],
      "metadata": {
        "id": "8MmhAFAYffkC",
        "outputId": "fb986f67-3f66-467c-a7fd-33a34c9fa232",
        "colab": {
          "base_uri": "https://localhost:8080/"
        }
      },
      "execution_count": 2,
      "outputs": [
        {
          "output_type": "stream",
          "name": "stdout",
          "text": [
            "Category\n",
            "Game                       4.104196e+09\n",
            "Photography                2.389204e+09\n",
            "Entertainment              1.740955e+09\n",
            "Productivity               1.724303e+09\n",
            "Tools                      7.206561e+08\n",
            "Personalization            2.200985e+08\n",
            "Video Players & Editors    2.095707e+08\n",
            "Music & Audio              2.091493e+08\n",
            "Education                  1.447257e+08\n",
            "Weather                    1.351303e+08\n",
            "Finance                    1.291717e+08\n",
            "Travel & Local             1.008731e+08\n",
            "News & Magazines           9.383515e+07\n",
            "Lifestyle                  8.746130e+07\n",
            "Books & Reference          7.584398e+07\n",
            "Shopping                   6.328254e+07\n",
            "Maps & Navigation          6.164418e+07\n",
            "Communication              4.275114e+07\n",
            "Social                     3.325207e+07\n",
            "Health & Fitness           3.188160e+07\n",
            "Art & Design               3.038853e+07\n",
            "Business                   2.981006e+07\n",
            "Medical                    2.740313e+07\n",
            "Food & Drink               2.031892e+07\n",
            "Beauty                     1.340349e+07\n",
            "Dating                     9.358915e+06\n",
            "House & Home               6.810834e+06\n",
            "Auto & Vehicles            5.923119e+06\n",
            "Parenting                  2.039410e+06\n",
            "Comics                     1.356089e+06\n",
            "Libraries & Demo           8.288110e+05\n",
            "Events                     5.675230e+05\n",
            "Name: Maximum Installs, dtype: float64\n",
            "Category\n",
            "Personalization            4.234615\n",
            "Books & Reference          4.177844\n",
            "Music & Audio              4.147804\n",
            "Libraries & Demo           4.091667\n",
            "Art & Design               4.072131\n",
            "Education                  4.056530\n",
            "Parenting                  4.055556\n",
            "Weather                    4.044118\n",
            "Game                       3.942318\n",
            "Social                     3.941912\n",
            "Lifestyle                  3.935192\n",
            "Beauty                     3.930769\n",
            "Travel & Local             3.929193\n",
            "Productivity               3.890361\n",
            "Dating                     3.886667\n",
            "News & Magazines           3.886014\n",
            "Communication              3.885315\n",
            "Shopping                   3.865278\n",
            "Video Players & Editors    3.864865\n",
            "Food & Drink               3.862353\n",
            "Comics                     3.860000\n",
            "Medical                    3.851471\n",
            "Entertainment              3.848524\n",
            "Photography                3.827907\n",
            "Tools                      3.808394\n",
            "Auto & Vehicles            3.792857\n",
            "Health & Fitness           3.761272\n",
            "Maps & Navigation          3.739806\n",
            "Finance                    3.731457\n",
            "Business                   3.699500\n",
            "House & Home               3.572000\n",
            "Events                     3.100000\n",
            "Name: Rating, dtype: float64\n",
            "Game                       1484\n",
            "Education                   559\n",
            "Tools                       548\n",
            "Entertainment               542\n",
            "Personalization             468\n",
            "Music & Audio               387\n",
            "Books & Reference           334\n",
            "Finance                     302\n",
            "Lifestyle                   287\n",
            "Photography                 215\n",
            "Business                    200\n",
            "Health & Fitness            173\n",
            "Productivity                166\n",
            "Travel & Local              161\n",
            "Shopping                    144\n",
            "News & Magazines            143\n",
            "Communication               143\n",
            "Social                      136\n",
            "Video Players & Editors     111\n",
            "Maps & Navigation           103\n",
            "Food & Drink                 85\n",
            "Medical                      68\n",
            "Art & Design                 61\n",
            "Auto & Vehicles              42\n",
            "Weather                      34\n",
            "Dating                       30\n",
            "Beauty                       26\n",
            "House & Home                 25\n",
            "Libraries & Demo             12\n",
            "Comics                       10\n",
            "Parenting                     9\n",
            "Events                        7\n",
            "Name: Category, dtype: int64\n"
          ]
        }
      ]
    },
    {
      "cell_type": "code",
      "source": [
        "\n",
        "# 공급에 비해 수요가 많은 카테고리 순위파악하기\n",
        "# cate_market: 카테고리별 앱 다운로드 수/카테고리별 앱 개수\n",
        "cate_market = cate_down/cate_counts\n",
        "print(cate_market.sort_values(ascending=False))"
      ],
      "metadata": {
        "id": "oryOUxALaaTi",
        "colab": {
          "base_uri": "https://localhost:8080/"
        },
        "outputId": "75a8ad03-dd02-4796-a1e1-22783b017b54"
      },
      "execution_count": 3,
      "outputs": [
        {
          "output_type": "stream",
          "name": "stdout",
          "text": [
            "Photography                1.111258e+07\n",
            "Productivity               1.038737e+07\n",
            "Weather                    3.974420e+06\n",
            "Entertainment              3.212093e+06\n",
            "Game                       2.765631e+06\n",
            "Video Players & Editors    1.888024e+06\n",
            "Tools                      1.315066e+06\n",
            "News & Magazines           6.561899e+05\n",
            "Travel & Local             6.265409e+05\n",
            "Maps & Navigation          5.984872e+05\n",
            "Music & Audio              5.404374e+05\n",
            "Beauty                     5.155189e+05\n",
            "Art & Design               4.981727e+05\n",
            "Personalization            4.702960e+05\n",
            "Shopping                   4.394621e+05\n",
            "Finance                    4.277207e+05\n",
            "Medical                    4.029872e+05\n",
            "Dating                     3.119638e+05\n",
            "Lifestyle                  3.047432e+05\n",
            "Communication              2.989590e+05\n",
            "House & Home               2.724334e+05\n",
            "Education                  2.589010e+05\n",
            "Social                     2.445005e+05\n",
            "Food & Drink               2.390461e+05\n",
            "Books & Reference          2.270778e+05\n",
            "Parenting                  2.266011e+05\n",
            "Health & Fitness           1.842867e+05\n",
            "Business                   1.490503e+05\n",
            "Auto & Vehicles            1.410266e+05\n",
            "Comics                     1.356089e+05\n",
            "Events                     8.107471e+04\n",
            "Libraries & Demo           6.906758e+04\n",
            "dtype: float64\n"
          ]
        }
      ]
    },
    {
      "cell_type": "code",
      "source": [
        "\n",
        "cate_ad = data[data['Ad Supported'] == True].groupby('Category')['App Name'].count().sort_values(ascending=False)\n",
        "cate_ad\n",
        "\n",
        "# cate_market2: 카테고리 별 앱 광고수 / 카테고리 별 앱 개수\n",
        "cate_market2 = cate_ad/cate_counts  \n",
        "print(cate_market2.sort_values(ascending=False))  "
      ],
      "metadata": {
        "id": "0uUyQS8NXJTO",
        "colab": {
          "base_uri": "https://localhost:8080/"
        },
        "outputId": "cb007084-face-4033-ce78-1039dee0a4de"
      },
      "execution_count": 4,
      "outputs": [
        {
          "output_type": "stream",
          "name": "stdout",
          "text": [
            "Beauty                     0.961538\n",
            "Art & Design               0.950820\n",
            "Personalization            0.914530\n",
            "Photography                0.869767\n",
            "Music & Audio              0.868217\n",
            "Game                       0.859164\n",
            "Books & Reference          0.856287\n",
            "Video Players & Editors    0.837838\n",
            "Entertainment              0.808118\n",
            "Comics                     0.800000\n",
            "Weather                    0.794118\n",
            "Dating                     0.766667\n",
            "News & Magazines           0.720280\n",
            "Tools                      0.671533\n",
            "Libraries & Demo           0.666667\n",
            "Education                  0.640429\n",
            "Parenting                  0.555556\n",
            "Social                     0.544118\n",
            "Lifestyle                  0.522648\n",
            "Communication              0.517483\n",
            "Productivity               0.457831\n",
            "Auto & Vehicles            0.452381\n",
            "Health & Fitness           0.410405\n",
            "Food & Drink               0.400000\n",
            "House & Home               0.360000\n",
            "Travel & Local             0.329193\n",
            "Maps & Navigation          0.310680\n",
            "Medical                    0.308824\n",
            "Events                     0.285714\n",
            "Shopping                   0.263889\n",
            "Finance                    0.195364\n",
            "Business                   0.155000\n",
            "dtype: float64\n"
          ]
        }
      ]
    },
    {
      "cell_type": "code",
      "source": [
        "cate_editor = data[data['Editors Choice'] == True].groupby('Category')['App Name'].count().sort_values(ascending=False)\n",
        "cate_editor\n",
        "\n",
        "#cate_market3: 카테고리 별 앱의 에디터 추천 수/ 카테고리 별 앱 개수\n",
        "cate_market3 = cate_editor/cate_counts   \n",
        "print(cate_market3.sort_values(ascending=False))"
      ],
      "metadata": {
        "id": "MqQo2yd4f6WJ",
        "colab": {
          "base_uri": "https://localhost:8080/"
        },
        "outputId": "c5133183-b561-4b38-fb06-fddc1eb4f2e0"
      },
      "execution_count": 5,
      "outputs": [
        {
          "output_type": "stream",
          "name": "stdout",
          "text": [
            "Game                       0.004717\n",
            "Entertainment              0.001845\n",
            "Education                  0.001789\n",
            "Art & Design                    NaN\n",
            "Auto & Vehicles                 NaN\n",
            "Beauty                          NaN\n",
            "Books & Reference               NaN\n",
            "Business                        NaN\n",
            "Comics                          NaN\n",
            "Communication                   NaN\n",
            "Dating                          NaN\n",
            "Events                          NaN\n",
            "Finance                         NaN\n",
            "Food & Drink                    NaN\n",
            "Health & Fitness                NaN\n",
            "House & Home                    NaN\n",
            "Libraries & Demo                NaN\n",
            "Lifestyle                       NaN\n",
            "Maps & Navigation               NaN\n",
            "Medical                         NaN\n",
            "Music & Audio                   NaN\n",
            "News & Magazines                NaN\n",
            "Parenting                       NaN\n",
            "Personalization                 NaN\n",
            "Photography                     NaN\n",
            "Productivity                    NaN\n",
            "Shopping                        NaN\n",
            "Social                          NaN\n",
            "Tools                           NaN\n",
            "Travel & Local                  NaN\n",
            "Video Players & Editors         NaN\n",
            "Weather                         NaN\n",
            "dtype: float64\n"
          ]
        }
      ]
    }
  ]
}